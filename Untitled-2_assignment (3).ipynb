{
 "cells": [
  {
   "cell_type": "markdown",
   "metadata": {},
   "source": [
    "# 1"
   ]
  },
  {
   "cell_type": "markdown",
   "metadata": {},
   "source": [
    "Flask is a widely used micro web framework for creating APIs in Python. It is a simple yet powerful web framework that is designed to get started quickly and easily, with the ability to scale up to complex applications."
   ]
  },
  {
   "cell_type": "markdown",
   "metadata": {},
   "source": [
    "Lightweight: Flask is a lightweight framework because it is independent of external libraries and it gives a quick start for web development having complex applications. Compatible: Flask is compatible with the latest technologies such as machine learning, agile development, cloud technologies, etc."
   ]
  },
  {
   "cell_type": "markdown",
   "metadata": {},
   "source": [
    "# 2"
   ]
  },
  {
   "cell_type": "code",
   "execution_count": 1,
   "metadata": {},
   "outputs": [
    {
     "name": "stdout",
     "output_type": "stream",
     "text": [
      " * Serving Flask app '__main__'\n",
      " * Debug mode: off\n"
     ]
    },
    {
     "name": "stderr",
     "output_type": "stream",
     "text": [
      "\u001b[31m\u001b[1mWARNING: This is a development server. Do not use it in a production deployment. Use a production WSGI server instead.\u001b[0m\n",
      " * Running on all addresses (0.0.0.0)\n",
      " * Running on http://127.0.0.1:5000\n",
      " * Running on http://172.18.0.4:5000\n",
      "\u001b[33mPress CTRL+C to quit\u001b[0m\n",
      "172.18.0.2 - - [04/Jun/2023 17:20:49] \"\u001b[33mGET /page_1 HTTP/1.1\u001b[0m\" 404 -\n",
      "172.18.0.2 - - [04/Jun/2023 17:20:54] \"GET / HTTP/1.1\" 200 -\n"
     ]
    }
   ],
   "source": [
    "from flask import  Flask\n",
    "from flask import  request\n",
    "\n",
    "app=Flask(__name__)\n",
    "@app.route(\"/\")\n",
    "def fun_hellow1():\n",
    "    return \"Hello World!!\"\n",
    "\n",
    "if __name__ == \"__main__\":\n",
    "    app.run(host=\"0.0.0.0\")"
   ]
  },
  {
   "cell_type": "code",
   "execution_count": 9,
   "metadata": {},
   "outputs": [
    {
     "data": {
      "image/png": "[encoded data removed]",
      "text/plain": [
       "<IPython.core.display.Image object>"
      ]
     },
     "execution_count": 9,
     "metadata": {},
     "output_type": "execute_result"
    }
   ],
   "source": [
    "from IPython.display import  Image\n",
    "Image(filename=\"/config/workspace/Capture.PNG\")"
   ]
  },
  {
   "cell_type": "markdown",
   "metadata": {},
   "source": [
    "%%html\n",
    "<img src=\"/config/workspace/Capture.PNG\">"
   ]
  },
  {
   "cell_type": "markdown",
   "metadata": {},
   "source": [
    "# 3"
   ]
  },
  {
   "cell_type": "markdown",
   "metadata": {},
   "source": [
    "App Routing means mapping the URLs to a specific function that will handle the logic for that URL. Modern web frameworks use more meaningful URLs to help users remember the URLs and make navigation simpler. "
   ]
  },
  {
   "cell_type": "markdown",
   "metadata": {},
   "source": [
    "routing technique to help users remember application URLs. It is helpful to access the desired page directly without navigating from the home page"
   ]
  },
  {
   "cell_type": "markdown",
   "metadata": {},
   "source": [
    "# 4"
   ]
  },
  {
   "cell_type": "code",
   "execution_count": 2,
   "metadata": {},
   "outputs": [
    {
     "name": "stdout",
     "output_type": "stream",
     "text": [
      " * Serving Flask app '__main__'\n",
      " * Debug mode: off\n"
     ]
    },
    {
     "name": "stderr",
     "output_type": "stream",
     "text": [
      "\u001b[31m\u001b[1mWARNING: This is a development server. Do not use it in a production deployment. Use a production WSGI server instead.\u001b[0m\n",
      " * Running on all addresses (0.0.0.0)\n",
      " * Running on http://127.0.0.1:5000\n",
      " * Running on http://172.18.0.4:5000\n",
      "\u001b[33mPress CTRL+C to quit\u001b[0m\n",
      "172.18.0.2 - - [04/Jun/2023 17:34:22] \"\u001b[33mGET /page_1 HTTP/1.1\u001b[0m\" 404 -\n",
      "172.18.0.2 - - [04/Jun/2023 17:34:25] \"GET / HTTP/1.1\" 200 -\n",
      "172.18.0.2 - - [04/Jun/2023 17:34:50] \"GET /welcome HTTP/1.1\" 200 -\n"
     ]
    }
   ],
   "source": [
    "from flask import  Flask\n",
    "from flask import  request\n",
    "\n",
    "app=Flask(__name__)\n",
    "@app.route(\"/\")\n",
    "def fun():\n",
    "    return \"Company Name: ABC Corporation \\n Location: India \\n Contact Detail: 999-999-9999\"\n",
    "\n",
    "@app.route(\"/welcome\")\n",
    "def welcone():\n",
    "    return \"Welcome to ABC Corporation\"\n",
    "\n",
    "if __name__ == \"__main__\":\n",
    "    app.run(host=\"0.0.0.0\")"
   ]
  },
  {
   "cell_type": "code",
   "execution_count": 10,
   "metadata": {},
   "outputs": [
    {
     "data": {
      "image/png": "[encoded data removed]",
      "text/plain": [
       "<IPython.core.display.Image object>"
      ]
     },
     "execution_count": 10,
     "metadata": {},
     "output_type": "execute_result"
    }
   ],
   "source": [
    "from IPython.display import  Image\n",
    "Image(filename=\"/config/workspace/Capture1.PNG\")"
   ]
  },
  {
   "cell_type": "markdown",
   "metadata": {},
   "source": [
    "%%html\n",
    "<img src=\"/config/workspace/Capture1.PNG\">"
   ]
  },
  {
   "cell_type": "code",
   "execution_count": 11,
   "metadata": {},
   "outputs": [
    {
     "data": {
      "image/png": "[encoded data removed]",
      "text/plain": [
       "<IPython.core.display.Image object>"
      ]
     },
     "execution_count": 11,
     "metadata": {},
     "output_type": "execute_result"
    }
   ],
   "source": [
    "from IPython.display import  Image\n",
    "Image(filename=\"/config/workspace/Capture2.PNG\")"
   ]
  },
  {
   "cell_type": "markdown",
   "metadata": {},
   "source": [
    "%%html\n",
    "<img src=\"/config/workspace/Capture2.PNG\">"
   ]
  },
  {
   "cell_type": "markdown",
   "metadata": {},
   "source": [
    "# 5"
   ]
  },
  {
   "cell_type": "markdown",
   "metadata": {},
   "source": [
    "URL Building\n",
    "To build a URL to a specific function, use the url_for() function. It accepts the name of the function as its first argument and any number of keyword arguments, each corresponding to a variable part of the URL rule."
   ]
  },
  {
   "cell_type": "code",
   "execution_count": 4,
   "metadata": {},
   "outputs": [
    {
     "name": "stdout",
     "output_type": "stream",
     "text": [
      "/\n",
      "/login\n",
      "/login?next=/\n",
      "/user/John%20Doe\n"
     ]
    }
   ],
   "source": [
    "from flask import url_for\n",
    "\n",
    "@app.route('/')\n",
    "def index():\n",
    "    return 'index'\n",
    "\n",
    "@app.route('/login')\n",
    "def login():\n",
    "    return 'login'\n",
    "\n",
    "@app.route('/user/<username>')\n",
    "def profile(username):\n",
    "    return f'{username}\\'s profile'\n",
    "\n",
    "with app.test_request_context():\n",
    "    print(url_for('index'))\n",
    "    print(url_for('login'))\n",
    "    print(url_for('login', next='/'))\n",
    "    print(url_for('profile', username='John Doe'))"
   ]
  },
  {
   "cell_type": "code",
   "execution_count": null,
   "metadata": {},
   "outputs": [],
   "source": []
  }
 ],
 "metadata": {
  "kernelspec": {
   "display_name": "Python 3.8.10 64-bit",
   "language": "python",
   "name": "python3"
  },
  "language_info": {
   "codemirror_mode": {
    "name": "ipython",
    "version": 3
   },
   "file_extension": ".py",
   "mimetype": "text/x-python",
   "name": "python",
   "nbconvert_exporter": "python",
   "pygments_lexer": "ipython3",
   "version": "3.8.10"
  },
  "orig_nbformat": 4,
  "vscode": {
   "interpreter": {
    "hash": "e7370f93d1d0cde622a1f8e1c04877d8463912d04d973331ad4851f04de6915a"
   }
  }
 },
 "nbformat": 4,
 "nbformat_minor": 2
}
